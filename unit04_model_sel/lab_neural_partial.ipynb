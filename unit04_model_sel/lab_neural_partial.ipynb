{
  "cells": [
    {
      "cell_type": "markdown",
      "metadata": {
        "id": "nQmvpAvwF3Uq"
      },
      "source": [
        "# Lab:  Model Order Selection for Neural Data\n",
        "\n",
        "Machine learning is a key tool for neuroscientists to understand how sensory and motor signals are encoded in the brain.  In addition to improving our scientific understanding of neural phenomena, understanding neural encoding is critical for brain machine interfaces.  In this lab, you will use model selection for performing some simple analysis on real neural signals.  \n",
        "\n",
        "Before doing this lab, you should review the ideas in the [polynomial model selection demo](./polyfit.ipynb).  In addition to the concepts in that demo, you will learn to:\n",
        "* Represent neural time-series data in arrays\n",
        "* Load data from a pickle file\n",
        "* Describe and fit memoryless linear models\n",
        "* Describe and fit linear time-series models with delays\n",
        "* Fit linear models with multiple target outputs\n",
        "* Select the optimal delay via cross-validation"
      ]
    },
    {
      "cell_type": "markdown",
      "metadata": {
        "id": "ehHOy1z7F3Ut"
      },
      "source": [
        "## Loading the data\n",
        "\n",
        "The data in this lab comes from neural recordings described in:\n",
        "\n",
        "<a href=\"http://jn.physiology.org/content/106/2/764.short\">\n",
        "Stevenson, Ian H., et al. \"Statistical assessment of the stability of neural movement representations.\" Journal of neurophysiology 106.2 (2011): 764-774</a>\n",
        "\n",
        "Neurons are the basic information processing units in the brain.  Neurons communicate with one another via *spikes* or *action potentials* which are brief events where voltage in the neuron rapidly rises then falls.  These spikes trigger the electro-chemical signals between one neuron and another.  In this experiment, the spikes were recorded from 196 neurons in the primary motor cortex (M1) of a monkey using an electrode array implanted onto the surface of a monkey's brain.  During the recording, the monkey performed several reaching tasks and the position and velocity of the hand was recorded as well.  \n",
        "\n",
        "The goal of the experiment is to try to *read the monkey's brain*:  That is, predict the hand motion from the neural signals from the motor cortex.\n",
        "\n",
        "We first load the key packages."
      ]
    },
    {
      "cell_type": "code",
      "execution_count": 30,
      "metadata": {
        "id": "CbHqxG9QF3Ut"
      },
      "outputs": [],
      "source": [
        "import numpy as np\n",
        "import matplotlib.pyplot as plt\n",
        "import pickle\n",
        "\n",
        "from sklearn.linear_model import LinearRegression\n",
        "from sklearn.metrics import r2_score"
      ]
    },
    {
      "cell_type": "markdown",
      "metadata": {
        "id": "yVLQfKh0F3Uu"
      },
      "source": [
        "The full data is available on the CRCNS website  http://crcns.org/data-sets/movements/dream.  This website has a large number of great datasets and can be used for projects as well.  However, the raw data files can be quite large.  To make the lab easier, the [Kording lab](http://kordinglab.com/) at UPenn has put together an excellent [repository](https://github.com/KordingLab/Neural_Decoding) where they have created simple pre-processed versions of the data.  You can download the file `example_data_s1.pickle` from the [Dropbox link](https://www.dropbox.com/sh/n4924ipcfjqc0t6/AADOv9JYMUBK1tlg9P71gSSra/example_data_s1.pickle?dl=0).  Alternatively, you can directly run the following code.  This may take a little while to download since the file is 26 MB."
      ]
    },
    {
      "cell_type": "code",
      "execution_count": 31,
      "metadata": {
        "id": "yTHztqB2F3Uu",
        "outputId": "cd7fd20a-0de4-4b25-c37e-d5de7aed5aaa",
        "colab": {
          "base_uri": "https://localhost:8080/"
        }
      },
      "outputs": [
        {
          "output_type": "stream",
          "name": "stdout",
          "text": [
            "File example_data_s1.pickle is already downloaded\n"
          ]
        }
      ],
      "source": [
        "fn_src = 'https://www.dropbox.com/sh/n4924ipcfjqc0t6/AADOv9JYMUBK1tlg9P71gSSra/example_data_s1.pickle?dl=1'\n",
        "fn_dst = 'example_data_s1.pickle'\n",
        "\n",
        "import os\n",
        "from six.moves import urllib\n",
        "\n",
        "if os.path.isfile(fn_dst):\n",
        "    print('File %s is already downloaded' % fn_dst)\n",
        "else:\n",
        "    urllib.request.urlretrieve(fn_src, fn_dst)"
      ]
    },
    {
      "cell_type": "markdown",
      "metadata": {
        "id": "TbvvcpdEF3Uv"
      },
      "source": [
        "The file is a *pickle* data structure, which is a package to serialize python objects into data files.  Once you have downloaded the file, you can run the following command to retrieve the data from the pickle file."
      ]
    },
    {
      "cell_type": "code",
      "execution_count": 32,
      "metadata": {
        "id": "lkqAYBZYF3Uv"
      },
      "outputs": [],
      "source": [
        "with open('example_data_s1.pickle', 'rb') as fp:\n",
        "    X,y = pickle.load(fp)"
      ]
    },
    {
      "cell_type": "markdown",
      "metadata": {
        "id": "mnHZb8LQF3Uv"
      },
      "source": [
        "The matrix `X` is matrix of spike counts where `X[i,j]` is the number of spikes from neuron `j` in time bin `i`.\n",
        "The matrix `y` has two columns:\n",
        "* `y[i,0] = ` velocity of the monkey's hand in the x-direction\n",
        "* `y[i,1] = ` velocity of the monkey's hand in the y-direction\n",
        "Our goal will be to predict `y` from `X`.  \n",
        "\n",
        "Each time bin represent `tsamp=0.05` seconds of time.  Using `X.shape` and `y.shape` compute and print:\n",
        "* `nt = ` the total number of time bins\n",
        "* `nneuron = ` the total number of neurons\n",
        "* `nout = ` the total number of output variables to track = number of columns in `y`\n",
        "* `ttotal = ` total time of the experiment is seconds."
      ]
    },
    {
      "cell_type": "code",
      "execution_count": 33,
      "metadata": {
        "id": "xBiSX2XuF3Uw"
      },
      "outputs": [],
      "source": [
        "tsamp = 0.05  # sampling time in seconds\n",
        "\n",
        "# TODO\n",
        "nt = X.shape[0]\n",
        "nneuron = X.shape[1]\n",
        "nout = y.shape[1]\n",
        "ttotal = nt*tsamp"
      ]
    },
    {
      "cell_type": "markdown",
      "metadata": {
        "id": "5uaJxzv-F3Uw"
      },
      "source": [
        "## Fitting a Memoryless Linear Model\n",
        "\n",
        "Let's first try a simple linear regression model to fit the data.\n",
        "\n",
        "First, use the `train_test_split` function to split the data into training and test.  Let `Xtr,ytr` be the training data set and `Xts,yts` be the test data set.  Use `test_size=0.33` so `1/3` of the data is used for test."
      ]
    },
    {
      "cell_type": "code",
      "execution_count": 34,
      "metadata": {
        "id": "T2fk3WPQF3Ux"
      },
      "outputs": [],
      "source": [
        "from sklearn.model_selection import train_test_split\n",
        "\n",
        "# TODO\n",
        "Xtr, Xts, ytr, yts = train_test_split(X, y, test_size=0.33)"
      ]
    },
    {
      "cell_type": "markdown",
      "metadata": {
        "id": "IGi_pSXTF3Ux"
      },
      "source": [
        "Now, fit a linear model using `Xtr,ytr`.  Make a prediction  `yhat` using `Xts`.  Compare `yhat` to `yts` to measure `rsq`, the  `R^2`.  You can use the `r2_score` method. Print the `rsq` value.  You should get `rsq` of around `0.45`."
      ]
    },
    {
      "cell_type": "code",
      "execution_count": 35,
      "metadata": {
        "id": "itbh_yEhF3Ux",
        "outputId": "e651cf3e-f179-48b0-ec46-020caf63c982",
        "colab": {
          "base_uri": "https://localhost:8080/"
        }
      },
      "outputs": [
        {
          "output_type": "execute_result",
          "data": {
            "text/plain": [
              "0.46429062988172864"
            ]
          },
          "metadata": {},
          "execution_count": 35
        }
      ],
      "source": [
        "# TODO\n",
        "# yhat = ...\n",
        "# rsq = ...\n",
        "yhat = LinearRegression().fit(Xtr, ytr).predict(Xts)\n",
        "rsq = r2_score(yts, yhat)\n",
        "rsq"
      ]
    },
    {
      "cell_type": "markdown",
      "metadata": {
        "id": "3tcaIBxgF3Ux"
      },
      "source": [
        "It is useful to plot the predicted vs. true values.  Since we have two outputs, create two `subplots` using the `plt.subplot()` command.  In plot `i=0,1`, plot `yhat[:,i]` vs. `yts[:,i]` with a scatter plot.   Label the axes of the plots.  You may also use the command:\n",
        "\n",
        "    plt.figure(figsize=(10,5))\n",
        "    \n",
        "to make the figures a little larger."
      ]
    },
    {
      "cell_type": "code",
      "execution_count": 36,
      "metadata": {
        "id": "WsqWUtRiF3Ux",
        "outputId": "71fcb555-51c9-4467-bc78-e073a9902aeb",
        "colab": {
          "base_uri": "https://localhost:8080/",
          "height": 484
        }
      },
      "outputs": [
        {
          "output_type": "execute_result",
          "data": {
            "text/plain": [
              "Text(0, 0.5, 'True')"
            ]
          },
          "metadata": {},
          "execution_count": 36
        },
        {
          "output_type": "display_data",
          "data": {
            "text/plain": [
              "<Figure size 1000x500 with 2 Axes>"
            ],
            "image/png": "[encoded data removed]"
          },
          "metadata": {}
        }
      ],
      "source": [
        "# TODO\n",
        "plt.figure(figsize=(10,5))\n",
        "plt.subplot(1,2,1)\n",
        "plt.scatter(yhat[:,0], yts[:,0])\n",
        "plt.xlabel('Predicted')\n",
        "plt.ylabel('True')\n",
        "plt.subplot(1,2,2)\n",
        "plt.scatter(yhat[:,1], yts[:,1])\n",
        "plt.xlabel('Predicted')\n",
        "plt.ylabel('True')"
      ]
    },
    {
      "cell_type": "markdown",
      "metadata": {
        "id": "4ylUzwu1F3Ux"
      },
      "source": [
        "## Fitting Models with Delay\n",
        "\n",
        "One way we can improve the model accuracy is to used delayed version of the features.  Specifically, the model we used above mapped the features\n",
        "\n",
        "    yhat[i,k] = \\sum_{j=0}^{p-1} X[i,j]*w[j,k] + b[k]\n",
        "    \n",
        "where `p` is the number of features and `w[j,k]` is a matrix of coefficients.  In this model,  `yhat[i,:]` at time `i` was only dependent on the inputs  `X[i,:]` at time `i`.  In signal processing, this is called a *memoryless* model.  However, in many physical systems, such as those that arise in neuroscience, there is a delay between the inputs `X[i,:]` and the outputs `y[i]`.  For such cases, we can use a model of the form,\n",
        "\n",
        "    yhat[i+d,k] = \\sum_{j=0}^{p-1} \\sum_{m=0}^d X[i+m,j]*W[j,m,k] + b[k]\n",
        "    \n",
        "where `W` is a 3-dim array of coefficients where:\n",
        "\n",
        "    W[j,m,k] is the influence of the input X[i+m,j] onto output y[i+d,k]\n",
        "\n",
        "\n",
        "In signal processing, this model is called an *FIR* filter and `W[j,:,k]` is the *impulse response* from the `j`-th input to the `k`-th output.  The point is that the output at time `i+d` depends on the inputs at times `i,i+1,...,i+d`.  Hence, it depends on the last `d+1` time steps, not just the most recent time.\n",
        "\n",
        "To translate this into a linear regression problem, complete the following function that creates a new feature and target matrix where:\n",
        "\n",
        "    Xdly[i,:] has the rows X[i,:], X[i++1,:], ..., X[i+dly,:]\n",
        "    ydly[i,:] = y[i+dly,:]\n",
        "    \n",
        "Thus, `Xdly[i,:]` contains all the delayed fetaures for the target `yhat`.  Note that if `X` is `n x p` then `Xdly` will be `n-dly x (dly+1)*p`.  \n"
      ]
    },
    {
      "cell_type": "code",
      "execution_count": 37,
      "metadata": {
        "id": "acudri5dF3Uy"
      },
      "outputs": [],
      "source": [
        "def create_dly_data(X,y,dly):\n",
        "    \"\"\"\n",
        "    Create delayed data\n",
        "    \"\"\"\n",
        "    # TODO\n",
        "\n",
        "    Xdly = np.zeros((X.shape[0]-dly, (dly+1)*X.shape[1]))\n",
        "    ydly = np.zeros((X.shape[0]-dly, y.shape[1]))\n",
        "    for i in range(X.shape[0]-dly):\n",
        "        Xdly[i,:] = np.concatenate((X[i,:], X[i+1:i+dly+1,:].flatten()))\n",
        "        ydly[i,:] = y[i+dly,:]\n",
        "\n",
        "\n",
        "    return Xdly, ydly\n"
      ]
    },
    {
      "cell_type": "markdown",
      "metadata": {
        "id": "YWAmooJ5F3Uy"
      },
      "source": [
        "Now fit an linear delayed model with `dly=6` additional delay lags.  That is,\n",
        "* Create delayed data `Xdly,ydly=create_dly_data(X,y,dly=6)`\n",
        "* Split the data into training and test as before\n",
        "* Fit the model on the training data\n",
        "* Measure the `R^2` score on the test data\n",
        "\n",
        "If you did this correctly, you should get a new `R^2` score around 0.69.  This is significantly better than the memoryless models."
      ]
    },
    {
      "cell_type": "code",
      "execution_count": 43,
      "metadata": {
        "id": "EiMCg1jiF3Uy",
        "outputId": "bde21857-a4a0-4c2e-f0f3-e135393b033d",
        "colab": {
          "base_uri": "https://localhost:8080/"
        }
      },
      "outputs": [
        {
          "output_type": "execute_result",
          "data": {
            "text/plain": [
              "0.6868183600814366"
            ]
          },
          "metadata": {},
          "execution_count": 43
        }
      ],
      "source": [
        "# TODO\n",
        "dly = 6\n",
        "Xdly, ydly = create_dly_data(X, y, dly=6)\n",
        "Xdlytr, Xdlyts, ydlytr, ydlyts = train_test_split(Xdly, ydly, test_size=0.33)\n",
        "Model = LinearRegression().fit(Xdlytr, ydlytr)\n",
        "yhat = Model.predict(Xdlyts)\n",
        "rsq = r2_score(ydlyts, yhat)\n",
        "rsq"
      ]
    },
    {
      "cell_type": "markdown",
      "metadata": {
        "id": "16rITX0YF3Uy"
      },
      "source": [
        "Plot the predicted vs. true values as before. You should visually see a better fit."
      ]
    },
    {
      "cell_type": "code",
      "execution_count": 44,
      "metadata": {
        "id": "sbqvR1_WF3Uy",
        "outputId": "4b7012d0-d362-4d1c-bcf8-a68a55ad340c",
        "colab": {
          "base_uri": "https://localhost:8080/",
          "height": 484
        }
      },
      "outputs": [
        {
          "output_type": "execute_result",
          "data": {
            "text/plain": [
              "Text(0, 0.5, 'True')"
            ]
          },
          "metadata": {},
          "execution_count": 44
        },
        {
          "output_type": "display_data",
          "data": {
            "text/plain": [
              "<Figure size 1000x500 with 2 Axes>"
            ],
            "image/png": "[encoded data removed]"
          },
          "metadata": {}
        }
      ],
      "source": [
        "# TODO\n",
        "plt.figure(figsize=(10,5))\n",
        "plt.subplot(1,2,1)\n",
        "plt.scatter(yhat[:,0], ydlyts[:,0])\n",
        "plt.xlabel('Predicted')\n",
        "plt.ylabel('True')\n",
        "plt.subplot(1,2,2)\n",
        "plt.scatter(yhat[:,1], ydlyts[:,1])\n",
        "plt.xlabel('Predicted')\n",
        "plt.ylabel('True')"
      ]
    },
    {
      "cell_type": "markdown",
      "metadata": {
        "id": "PCQoBvkNF3Uy"
      },
      "source": [
        "*Note*:  Fitting an FIR model with the above method is very inefficient when the number of delays, `dly` is large.  In the above method, the number of columns of `X` grows from `p` to `(dly+1)*p` and the computations become expensive with `dly` is large.  We will describe a much faster way to fit such models using gradient descent when we talk about convolutional neural networks."
      ]
    },
    {
      "cell_type": "markdown",
      "metadata": {
        "id": "vIiIg-fUF3Uz"
      },
      "source": [
        "## Selecting the Optimal Delay via Model Order Selection\n",
        "\n",
        "In the previous example, we fixed `dly=6`.  We can now select the optimal delay using model order selection.  Since we have a large number of data samples, it turns out that the optimal model order uses a very high delay.  Using the above fitting method, the computations take too long.  So, to simplify the lab, we will first just pretent that we have a very limited data set.\n",
        "\n",
        "Compute `Xred` and `yred` by taking the first `nred=6000` samples of the data `X` and `y`.  This is about 10% of the overall data."
      ]
    },
    {
      "cell_type": "code",
      "execution_count": 46,
      "metadata": {
        "id": "9PhYuhyYF3Uz"
      },
      "outputs": [],
      "source": [
        "nred = 6000\n",
        "\n",
        "# TODO\n",
        "Xred = X[:nred,:]\n",
        "yred = y[:nred,:]"
      ]
    },
    {
      "cell_type": "markdown",
      "metadata": {
        "id": "mnqhZqvdF3Uz"
      },
      "source": [
        "Now complete the following code to implement K-fold cross validation with `nfold=5` and values of delays `dtest = [0,1,...,dmax]`.  \n",
        "\n",
        "The code also includes a progress bar using the `tqdm` package.  This is very useful when you have a long computation.\n",
        "\n",
        "Note:  Some students appeared to use the `mse` metric (i.e. RSS per sample) instead of `R^2`.  That is fine.  For the solution, I have computed both."
      ]
    },
    {
      "cell_type": "code",
      "execution_count": 47,
      "metadata": {
        "id": "DUwtxJryF3Uz",
        "outputId": "c7544fd9-03ec-470b-c056-7d7316f55682",
        "colab": {
          "base_uri": "https://localhost:8080/",
          "height": 49,
          "referenced_widgets": [
            "97c651d3e68945ed848f967d2641de7a",
            "c6dd4d92e35f44968201d72da596a6da",
            "764784049dea49edb507092dcad696b3",
            "9ea93f2d88aa46238b87e32c0c6268e3",
            "01f0e429c7aa44fb9e439a1620d1004e",
            "69f367f463c24a048dee9ebaaac2d6b2",
            "b58ffc8b9b20453f8bee667a8d53bd33",
            "07d0ffcc51b44345bf01078aaad70f3f",
            "b5a85bc05a2d4ec7ac6ec726c729c8b1",
            "c9ce4e4ff9a04619b7c9a57e814b1db7",
            "9305859018494ae49700aeafdd233454"
          ]
        }
      },
      "outputs": [
        {
          "output_type": "display_data",
          "data": {
            "text/plain": [
              "Model order test:   0%|          | 0/80 [00:00<?, ?fits/s]"
            ],
            "application/vnd.jupyter.widget-view+json": {
              "version_major": 2,
              "version_minor": 0,
              "model_id": "97c651d3e68945ed848f967d2641de7a"
            }
          },
          "metadata": {}
        }
      ],
      "source": [
        "import  sklearn.model_selection\n",
        "import tqdm.notebook\n",
        "\n",
        "nfold = 5  # Number of folds\n",
        "dmax = 15  # maximum number of delays\n",
        "\n",
        "# TODO:  Create a k-fold object\n",
        "# kf = sklearn.model_selection.KFold(...)\n",
        "kf = sklearn.model_selection.KFold(n_splits=nfold)\n",
        "# TODO:  Model orders to be tested\n",
        "# dtest = vector [0,1,...,dmax]\n",
        "# nd = len(dtest)\n",
        "dtest = range(dmax+1)\n",
        "nd = len(dtest)\n",
        "Rsq = np.zeros((nd,nfold))\n",
        "\n",
        "# TODO.\n",
        "# Initialize a matrix Rsq to hold values of the R^2 across the model orders and folds.\n",
        "# Alternatively, you can also create an RSS matrix\n",
        "\n",
        "# Create a progress bar.  Note there are nd*nfold total fits.\n",
        "pbar = tqdm.notebook.tqdm(\n",
        "    total=nfold*nd, initial=0,\n",
        "    unit='fits', unit_divisor=nd, desc='Model order test')\n",
        "\n",
        "\n",
        "for it, d in enumerate(dtest):\n",
        "    # TODO:\n",
        "    # Create the delayed data using the create_dly_function from the reduced\n",
        "    # data Xred, yred\n",
        "    #     Xdly, ydly = create_dly_data(...)\n",
        "    Xdly, ydly = create_dly_data(Xred, yred, d)\n",
        "        # Loop over the folds\n",
        "    for isplit, Ind in enumerate(kf.split(Xdly)):\n",
        "\n",
        "        # Get the training data in the split\n",
        "        Itr, Its = Ind\n",
        "\n",
        "        # TODO\n",
        "        # Split the data (Xdly,ydly) into training and test\n",
        "        # Xtr = ...\n",
        "        # ytr = ...\n",
        "        # Xts = ...\n",
        "        # yts = ...\n",
        "        Xtr = Xdly[Itr,:]\n",
        "        ytr = ydly[Itr,:]\n",
        "        Xts = Xdly[Its,:]\n",
        "        yts = ydly[Its,:]\n",
        "\n",
        "        # TODO:  Fit data on training data\n",
        "        Model = LinearRegression().fit(Xtr, ytr)\n",
        "        yhat = Model.predict(Xts)\n",
        "        # TODO:  Measure the R^2 vale on test data and store in the matrix Rsq\n",
        "        rsq = r2_score(yts, yhat)\n",
        "        Rsq[it,isplit] = rsq\n",
        "\n",
        "        pbar.update(1)\n",
        "pbar.close()"
      ]
    },
    {
      "cell_type": "markdown",
      "metadata": {
        "id": "4mFpnwbrF3Uz"
      },
      "source": [
        "Compute the mean and standard error of the `R^2` values as a function of the model order `d`.  Use a `plt.errorbar` plot.  Label your axes."
      ]
    },
    {
      "cell_type": "code",
      "execution_count": 48,
      "metadata": {
        "id": "60rGxAA0F3Uz",
        "outputId": "d6d07388-841b-416d-f5e1-bc1771870a06",
        "colab": {
          "base_uri": "https://localhost:8080/",
          "height": 449
        }
      },
      "outputs": [
        {
          "output_type": "display_data",
          "data": {
            "text/plain": [
              "<Figure size 640x480 with 1 Axes>"
            ],
            "image/png": "[encoded data removed]"
          },
          "metadata": {}
        }
      ],
      "source": [
        "# TODO\n",
        "Rsq_mean = np.mean(Rsq, axis=1)\n",
        "Rsq_std = np.std(Rsq, axis=1)/np.sqrt(nfold)\n",
        "plt.errorbar(dtest, Rsq_mean, yerr=Rsq_std)\n",
        "plt.xlabel('Delay')\n",
        "plt.ylabel('R^2')\n",
        "plt.show()"
      ]
    },
    {
      "cell_type": "markdown",
      "metadata": {
        "id": "UhR7Tq_rF3Uz"
      },
      "source": [
        "Find the optimal order `d` with the normal rule (i.e. highest test `R^2`)"
      ]
    },
    {
      "cell_type": "code",
      "execution_count": 52,
      "metadata": {
        "id": "7AKZKNs3F3Uz",
        "outputId": "f9ebbc60-a1cb-498c-e353-a5245a686e5f",
        "colab": {
          "base_uri": "https://localhost:8080/"
        }
      },
      "outputs": [
        {
          "output_type": "execute_result",
          "data": {
            "text/plain": [
              "np.int64(8)"
            ]
          },
          "metadata": {},
          "execution_count": 52
        }
      ],
      "source": [
        "# TODO\n",
        "d = np.argmax(Rsq_mean)\n",
        "d"
      ]
    },
    {
      "cell_type": "markdown",
      "metadata": {
        "id": "T6J-L-LNF3Uz"
      },
      "source": [
        "Now find the optimal model order via the one SE rule (i.e. highest test `R^2` within on SE)"
      ]
    },
    {
      "cell_type": "code",
      "execution_count": 53,
      "metadata": {
        "id": "zL1FcWpgF3Uz",
        "outputId": "ea4de1a8-10bb-436a-8e4b-4d030ff2e1ae",
        "colab": {
          "base_uri": "https://localhost:8080/"
        }
      },
      "outputs": [
        {
          "output_type": "execute_result",
          "data": {
            "text/plain": [
              "np.int64(8)"
            ]
          },
          "metadata": {},
          "execution_count": 53
        }
      ],
      "source": [
        "# TODO\n",
        "d = np.argmax(Rsq_mean + Rsq_std)\n",
        "d"
      ]
    },
    {
      "cell_type": "code",
      "execution_count": null,
      "metadata": {
        "id": "jLE9d1TeF3U0"
      },
      "outputs": [],
      "source": []
    }
  ],
  "metadata": {
    "kernelspec": {
      "display_name": "Python 3",
      "language": "python",
      "name": "python3"
    },
    "language_info": {
      "codemirror_mode": {
        "name": "ipython",
        "version": 3
      },
      "file_extension": ".py",
      "mimetype": "text/x-python",
      "name": "python",
      "nbconvert_exporter": "python",
      "pygments_lexer": "ipython3",
      "version": "3.7.4"
    },
    "colab": {
      "provenance": []
    },
    "widgets": {
      "application/vnd.jupyter.widget-state+json": {
        "97c651d3e68945ed848f967d2641de7a": {
          "model_module": "@jupyter-widgets/controls",
          "model_name": "HBoxModel",
          "model_module_version": "1.5.0",
          "state": {
            "_dom_classes": [],
            "_model_module": "@jupyter-widgets/controls",
            "_model_module_version": "1.5.0",
            "_model_name": "HBoxModel",
            "_view_count": null,
            "_view_module": "@jupyter-widgets/controls",
            "_view_module_version": "1.5.0",
            "_view_name": "HBoxView",
            "box_style": "",
            "children": [
              "IPY_MODEL_c6dd4d92e35f44968201d72da596a6da",
              "IPY_MODEL_764784049dea49edb507092dcad696b3",
              "IPY_MODEL_9ea93f2d88aa46238b87e32c0c6268e3"
            ],
            "layout": "IPY_MODEL_01f0e429c7aa44fb9e439a1620d1004e"
          }
        },
        "c6dd4d92e35f44968201d72da596a6da": {
          "model_module": "@jupyter-widgets/controls",
          "model_name": "HTMLModel",
          "model_module_version": "1.5.0",
          "state": {
            "_dom_classes": [],
            "_model_module": "@jupyter-widgets/controls",
            "_model_module_version": "1.5.0",
            "_model_name": "HTMLModel",
            "_view_count": null,
            "_view_module": "@jupyter-widgets/controls",
            "_view_module_version": "1.5.0",
            "_view_name": "HTMLView",
            "description": "",
            "description_tooltip": null,
            "layout": "IPY_MODEL_69f367f463c24a048dee9ebaaac2d6b2",
            "placeholder": "​",
            "style": "IPY_MODEL_b58ffc8b9b20453f8bee667a8d53bd33",
            "value": "Model order test: 100%"
          }
        },
        "764784049dea49edb507092dcad696b3": {
          "model_module": "@jupyter-widgets/controls",
          "model_name": "FloatProgressModel",
          "model_module_version": "1.5.0",
          "state": {
            "_dom_classes": [],
            "_model_module": "@jupyter-widgets/controls",
            "_model_module_version": "1.5.0",
            "_model_name": "FloatProgressModel",
            "_view_count": null,
            "_view_module": "@jupyter-widgets/controls",
            "_view_module_version": "1.5.0",
            "_view_name": "ProgressView",
            "bar_style": "success",
            "description": "",
            "description_tooltip": null,
            "layout": "IPY_MODEL_07d0ffcc51b44345bf01078aaad70f3f",
            "max": 80,
            "min": 0,
            "orientation": "horizontal",
            "style": "IPY_MODEL_b5a85bc05a2d4ec7ac6ec726c729c8b1",
            "value": 80
          }
        },
        "9ea93f2d88aa46238b87e32c0c6268e3": {
          "model_module": "@jupyter-widgets/controls",
          "model_name": "HTMLModel",
          "model_module_version": "1.5.0",
          "state": {
            "_dom_classes": [],
            "_model_module": "@jupyter-widgets/controls",
            "_model_module_version": "1.5.0",
            "_model_name": "HTMLModel",
            "_view_count": null,
            "_view_module": "@jupyter-widgets/controls",
            "_view_module_version": "1.5.0",
            "_view_name": "HTMLView",
            "description": "",
            "description_tooltip": null,
            "layout": "IPY_MODEL_c9ce4e4ff9a04619b7c9a57e814b1db7",
            "placeholder": "​",
            "style": "IPY_MODEL_9305859018494ae49700aeafdd233454",
            "value": " 80/80 [00:41&lt;00:00,  2.38s/fits]"
          }
        },
        "01f0e429c7aa44fb9e439a1620d1004e": {
          "model_module": "@jupyter-widgets/base",
          "model_name": "LayoutModel",
          "model_module_version": "1.2.0",
          "state": {
            "_model_module": "@jupyter-widgets/base",
            "_model_module_version": "1.2.0",
            "_model_name": "LayoutModel",
            "_view_count": null,
            "_view_module": "@jupyter-widgets/base",
            "_view_module_version": "1.2.0",
            "_view_name": "LayoutView",
            "align_content": null,
            "align_items": null,
            "align_self": null,
            "border": null,
            "bottom": null,
            "display": null,
            "flex": null,
            "flex_flow": null,
            "grid_area": null,
            "grid_auto_columns": null,
            "grid_auto_flow": null,
            "grid_auto_rows": null,
            "grid_column": null,
            "grid_gap": null,
            "grid_row": null,
            "grid_template_areas": null,
            "grid_template_columns": null,
            "grid_template_rows": null,
            "height": null,
            "justify_content": null,
            "justify_items": null,
            "left": null,
            "margin": null,
            "max_height": null,
            "max_width": null,
            "min_height": null,
            "min_width": null,
            "object_fit": null,
            "object_position": null,
            "order": null,
            "overflow": null,
            "overflow_x": null,
            "overflow_y": null,
            "padding": null,
            "right": null,
            "top": null,
            "visibility": null,
            "width": null
          }
        },
        "69f367f463c24a048dee9ebaaac2d6b2": {
          "model_module": "@jupyter-widgets/base",
          "model_name": "LayoutModel",
          "model_module_version": "1.2.0",
          "state": {
            "_model_module": "@jupyter-widgets/base",
            "_model_module_version": "1.2.0",
            "_model_name": "LayoutModel",
            "_view_count": null,
            "_view_module": "@jupyter-widgets/base",
            "_view_module_version": "1.2.0",
            "_view_name": "LayoutView",
            "align_content": null,
            "align_items": null,
            "align_self": null,
            "border": null,
            "bottom": null,
            "display": null,
            "flex": null,
            "flex_flow": null,
            "grid_area": null,
            "grid_auto_columns": null,
            "grid_auto_flow": null,
            "grid_auto_rows": null,
            "grid_column": null,
            "grid_gap": null,
            "grid_row": null,
            "grid_template_areas": null,
            "grid_template_columns": null,
            "grid_template_rows": null,
            "height": null,
            "justify_content": null,
            "justify_items": null,
            "left": null,
            "margin": null,
            "max_height": null,
            "max_width": null,
            "min_height": null,
            "min_width": null,
            "object_fit": null,
            "object_position": null,
            "order": null,
            "overflow": null,
            "overflow_x": null,
            "overflow_y": null,
            "padding": null,
            "right": null,
            "top": null,
            "visibility": null,
            "width": null
          }
        },
        "b58ffc8b9b20453f8bee667a8d53bd33": {
          "model_module": "@jupyter-widgets/controls",
          "model_name": "DescriptionStyleModel",
          "model_module_version": "1.5.0",
          "state": {
            "_model_module": "@jupyter-widgets/controls",
            "_model_module_version": "1.5.0",
            "_model_name": "DescriptionStyleModel",
            "_view_count": null,
            "_view_module": "@jupyter-widgets/base",
            "_view_module_version": "1.2.0",
            "_view_name": "StyleView",
            "description_width": ""
          }
        },
        "07d0ffcc51b44345bf01078aaad70f3f": {
          "model_module": "@jupyter-widgets/base",
          "model_name": "LayoutModel",
          "model_module_version": "1.2.0",
          "state": {
            "_model_module": "@jupyter-widgets/base",
            "_model_module_version": "1.2.0",
            "_model_name": "LayoutModel",
            "_view_count": null,
            "_view_module": "@jupyter-widgets/base",
            "_view_module_version": "1.2.0",
            "_view_name": "LayoutView",
            "align_content": null,
            "align_items": null,
            "align_self": null,
            "border": null,
            "bottom": null,
            "display": null,
            "flex": null,
            "flex_flow": null,
            "grid_area": null,
            "grid_auto_columns": null,
            "grid_auto_flow": null,
            "grid_auto_rows": null,
            "grid_column": null,
            "grid_gap": null,
            "grid_row": null,
            "grid_template_areas": null,
            "grid_template_columns": null,
            "grid_template_rows": null,
            "height": null,
            "justify_content": null,
            "justify_items": null,
            "left": null,
            "margin": null,
            "max_height": null,
            "max_width": null,
            "min_height": null,
            "min_width": null,
            "object_fit": null,
            "object_position": null,
            "order": null,
            "overflow": null,
            "overflow_x": null,
            "overflow_y": null,
            "padding": null,
            "right": null,
            "top": null,
            "visibility": null,
            "width": null
          }
        },
        "b5a85bc05a2d4ec7ac6ec726c729c8b1": {
          "model_module": "@jupyter-widgets/controls",
          "model_name": "ProgressStyleModel",
          "model_module_version": "1.5.0",
          "state": {
            "_model_module": "@jupyter-widgets/controls",
            "_model_module_version": "1.5.0",
            "_model_name": "ProgressStyleModel",
            "_view_count": null,
            "_view_module": "@jupyter-widgets/base",
            "_view_module_version": "1.2.0",
            "_view_name": "StyleView",
            "bar_color": null,
            "description_width": ""
          }
        },
        "c9ce4e4ff9a04619b7c9a57e814b1db7": {
          "model_module": "@jupyter-widgets/base",
          "model_name": "LayoutModel",
          "model_module_version": "1.2.0",
          "state": {
            "_model_module": "@jupyter-widgets/base",
            "_model_module_version": "1.2.0",
            "_model_name": "LayoutModel",
            "_view_count": null,
            "_view_module": "@jupyter-widgets/base",
            "_view_module_version": "1.2.0",
            "_view_name": "LayoutView",
            "align_content": null,
            "align_items": null,
            "align_self": null,
            "border": null,
            "bottom": null,
            "display": null,
            "flex": null,
            "flex_flow": null,
            "grid_area": null,
            "grid_auto_columns": null,
            "grid_auto_flow": null,
            "grid_auto_rows": null,
            "grid_column": null,
            "grid_gap": null,
            "grid_row": null,
            "grid_template_areas": null,
            "grid_template_columns": null,
            "grid_template_rows": null,
            "height": null,
            "justify_content": null,
            "justify_items": null,
            "left": null,
            "margin": null,
            "max_height": null,
            "max_width": null,
            "min_height": null,
            "min_width": null,
            "object_fit": null,
            "object_position": null,
            "order": null,
            "overflow": null,
            "overflow_x": null,
            "overflow_y": null,
            "padding": null,
            "right": null,
            "top": null,
            "visibility": null,
            "width": null
          }
        },
        "9305859018494ae49700aeafdd233454": {
          "model_module": "@jupyter-widgets/controls",
          "model_name": "DescriptionStyleModel",
          "model_module_version": "1.5.0",
          "state": {
            "_model_module": "@jupyter-widgets/controls",
            "_model_module_version": "1.5.0",
            "_model_name": "DescriptionStyleModel",
            "_view_count": null,
            "_view_module": "@jupyter-widgets/base",
            "_view_module_version": "1.2.0",
            "_view_name": "StyleView",
            "description_width": ""
          }
        }
      }
    }
  },
  "nbformat": 4,
  "nbformat_minor": 0
}